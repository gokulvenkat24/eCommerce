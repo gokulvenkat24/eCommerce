{
 "cells": [
  {
   "cell_type": "markdown",
   "id": "777b2b03",
   "metadata": {},
   "source": [
    "# Task 2: Lookalike Model"
   ]
  },
  {
   "cell_type": "code",
   "execution_count": 1,
   "id": "29e176c5",
   "metadata": {},
   "outputs": [],
   "source": [
    "import pandas as pd\n",
    "from sklearn.preprocessing import OneHotEncoder, StandardScaler\n",
    "from sklearn.metrics.pairwise import cosine_similarity\n",
    "import csv"
   ]
  },
  {
   "cell_type": "code",
   "execution_count": 2,
   "id": "111398d0",
   "metadata": {},
   "outputs": [],
   "source": [
    "# Load datasets\n",
    "customers = pd.read_csv(\"Customers.csv\")\n",
    "products = pd.read_csv(\"Products.csv\")\n",
    "transactions = pd.read_csv(\"Transactions.csv\")\n",
    "\n",
    "# Preprocessing\n",
    "# Drop unnecessary columns\n",
    "customers_processed = customers.drop(columns=['CustomerID', 'CustomerName'])\n"
   ]
  },
  {
   "cell_type": "code",
   "execution_count": 3,
   "id": "8cead4d5",
   "metadata": {},
   "outputs": [],
   "source": [
    "# Encode 'Region' column\n",
    "encoder = OneHotEncoder()\n",
    "region_encoded = encoder.fit_transform(customers_processed[['Region']]).toarray()\n",
    "region_encoded_df = pd.DataFrame(region_encoded, columns=encoder.get_feature_names_out(['Region']))\n",
    "\n",
    "# Convert 'SignupDate' to numeric (days since the earliest signup date)\n",
    "customers_processed['SignupDate'] = pd.to_datetime(customers_processed['SignupDate'])\n",
    "customers_processed['DaysSinceSignup'] = (customers_processed['SignupDate'] - customers_processed['SignupDate'].min()).dt.days\n",
    "customers_processed = customers_processed.drop(columns=['Region', 'SignupDate'])\n"
   ]
  },
  {
   "cell_type": "code",
   "execution_count": 4,
   "id": "46851571",
   "metadata": {},
   "outputs": [],
   "source": [
    "# Combine numeric data with encoded data\n",
    "final_features = pd.concat([customers_processed.reset_index(drop=True), region_encoded_df], axis=1)\n",
    "\n",
    "# Standardize the features\n",
    "scaler = StandardScaler()\n",
    "final_features_scaled = scaler.fit_transform(final_features)"
   ]
  },
  {
   "cell_type": "code",
   "execution_count": 5,
   "id": "3325f886",
   "metadata": {},
   "outputs": [],
   "source": [
    "# Compute similarity\n",
    "similarity_matrix = cosine_similarity(final_features_scaled)\n",
    "\n",
    "# Create similarity DataFrame\n",
    "similarity_df = pd.DataFrame(similarity_matrix, index=customers['CustomerID'], columns=customers['CustomerID'])"
   ]
  },
  {
   "cell_type": "code",
   "execution_count": 6,
   "id": "dc9cdc61",
   "metadata": {},
   "outputs": [
    {
     "name": "stdout",
     "output_type": "stream",
     "text": [
      "Lookalike CSV generated successfully.\n"
     ]
    }
   ],
   "source": [
    "# Generate lookalikes for the first 20 customers\n",
    "lookalikes = {}\n",
    "for customer_id in customers['CustomerID'][:20]:\n",
    "    similar_customers = similarity_df[customer_id].sort_values(ascending=False).iloc[1:4]\n",
    "    lookalikes[customer_id] = list(zip(similar_customers.index, similar_customers.values))\n",
    "\n",
    "# Save lookalikes to a CSV file\n",
    "with open(\"Lookalike.csv\", mode=\"w\", newline=\"\") as file:\n",
    "    writer = csv.writer(file)\n",
    "    writer.writerow([\"CustomerID\", \"SimilarCustomers\"])\n",
    "    for cust_id, similars in lookalikes.items():\n",
    "        writer.writerow([cust_id, similars])\n",
    "\n",
    "print(\"Lookalike CSV generated successfully.\")"
   ]
  },
  {
   "cell_type": "code",
   "execution_count": 7,
   "id": "8d42b9ba",
   "metadata": {},
   "outputs": [
    {
     "name": "stdout",
     "output_type": "stream",
     "text": [
      "   CustomerID                                   SimilarCustomers\n",
      "0       C0001  [('C0112', 0.9999934679217143), ('C0025', 0.99...\n",
      "1       C0002  [('C0134', 0.9999845314129499), ('C0045', 0.99...\n",
      "2       C0003  [('C0126', 0.9997195890105688), ('C0052', 0.99...\n",
      "3       C0004  [('C0108', 0.9998871383108665), ('C0102', 0.99...\n",
      "4       C0005  [('C0159', 0.9999451367443317), ('C0106', 0.99...\n",
      "5       C0006  [('C0076', 0.9985577703727381), ('C0052', 0.99...\n",
      "6       C0007  [('C0159', 0.9984824549509707), ('C0005', 0.99...\n",
      "7       C0008  [('C0189', 0.9999238166556718), ('C0183', 0.99...\n",
      "8       C0009  [('C0121', 0.9994280145949601), ('C0170', 0.99...\n",
      "9       C0010  [('C0062', 0.9999990418223423), ('C0199', 0.99...\n",
      "10      C0011  [('C0168', 0.9999988928106186), ('C0171', 0.99...\n",
      "11      C0012  [('C0187', 0.9999822030221266), ('C0195', 0.99...\n",
      "12      C0013  [('C0190', 0.9998734425366048), ('C0032', 0.99...\n",
      "13      C0014  [('C0044', 0.9997681922150611), ('C0057', 0.99...\n",
      "14      C0015  [('C0185', 0.9988111004387746), ('C0016', 0.99...\n",
      "15      C0016  [('C0008', 0.9999046560368468), ('C0189', 0.99...\n",
      "16      C0017  [('C0069', 0.9999956642434136), ('C0051', 0.99...\n",
      "17      C0018  [('C0049', 0.9999950115052263), ('C0144', 0.99...\n",
      "18      C0019  [('C0149', 0.9999178272796675), ('C0132', 0.99...\n",
      "19      C0020  [('C0036', 0.999567927973277), ('C0065', 0.999...\n"
     ]
    }
   ],
   "source": [
    "# Now read the saved CSV and display it\n",
    "lookalike_df = pd.read_csv(\"Lookalike.csv\")\n",
    "print(lookalike_df)"
   ]
  },
  {
   "cell_type": "code",
   "execution_count": 8,
   "id": "33e2cb29",
   "metadata": {},
   "outputs": [
    {
     "name": "stdout",
     "output_type": "stream",
     "text": [
      "   CustomerID  \\\n",
      "0       C0001   \n",
      "1       C0002   \n",
      "2       C0003   \n",
      "3       C0004   \n",
      "4       C0005   \n",
      "5       C0006   \n",
      "6       C0007   \n",
      "7       C0008   \n",
      "8       C0009   \n",
      "9       C0010   \n",
      "10      C0011   \n",
      "11      C0012   \n",
      "12      C0013   \n",
      "13      C0014   \n",
      "14      C0015   \n",
      "15      C0016   \n",
      "16      C0017   \n",
      "17      C0018   \n",
      "18      C0019   \n",
      "19      C0020   \n",
      "\n",
      "                                                                                 SimilarCustomers  \n",
      "0   [('C0112', 0.9999934679217143), ('C0025', 0.9999739916869222), ('C0071', 0.9999417505631495)]  \n",
      "1     [('C0134', 0.9999845314129499), ('C0045', 0.999937605464356), ('C0040', 0.999787344339684)]  \n",
      "2   [('C0126', 0.9997195890105688), ('C0052', 0.9997195890105688), ('C0076', 0.9993086221473566)]  \n",
      "3   [('C0108', 0.9998871383108665), ('C0102', 0.9995145168893103), ('C0192', 0.9994721032009289)]  \n",
      "4   [('C0159', 0.9999451367443317), ('C0106', 0.9989686627560788), ('C0173', 0.9980392964424282)]  \n",
      "5   [('C0076', 0.9985577703727381), ('C0052', 0.9977416568193173), ('C0126', 0.9977416568193173)]  \n",
      "6   [('C0159', 0.9984824549509707), ('C0005', 0.9978508144622327), ('C0175', 0.9978215970299322)]  \n",
      "7   [('C0189', 0.9999238166556718), ('C0183', 0.9999060163308237), ('C0016', 0.9999046560368468)]  \n",
      "8   [('C0121', 0.9994280145949601), ('C0170', 0.9989438392701946), ('C0064', 0.9944764587651896)]  \n",
      "9   [('C0062', 0.9999990418223423), ('C0199', 0.9998634382707906), ('C0019', 0.9992291947506864)]  \n",
      "10  [('C0168', 0.9999988928106186), ('C0171', 0.9999822265580522), ('C0096', 0.9993800895541761)]  \n",
      "11  [('C0187', 0.9999822030221266), ('C0195', 0.9988862962568205), ('C0085', 0.9986091308590731)]  \n",
      "12  [('C0190', 0.9998734425366048), ('C0032', 0.9990445479847451), ('C0129', 0.9988524858911861)]  \n",
      "13  [('C0044', 0.9997681922150611), ('C0057', 0.9991426539203047), ('C0124', 0.9971579832161084)]  \n",
      "14   [('C0185', 0.9988111004387746), ('C0016', 0.9980895995316794), ('C0008', 0.997141296478379)]  \n",
      "15  [('C0008', 0.9999046560368468), ('C0189', 0.9996580334949515), ('C0183', 0.9996213675439523)]  \n",
      "16   [('C0069', 0.9999956642434136), ('C0051', 0.999725733434161), ('C0041', 0.9994835901443253)]  \n",
      "17  [('C0049', 0.9999950115052263), ('C0144', 0.9999558141121888), ('C0035', 0.9999455222593414)]  \n",
      "18   [('C0149', 0.9999178272796675), ('C0132', 0.999590699525703), ('C0037', 0.9994574594023078)]  \n",
      "19   [('C0036', 0.999567927973277), ('C0065', 0.9994213569723714), ('C0194', 0.9989275184262444)]  \n"
     ]
    }
   ],
   "source": [
    "\n",
    "pd.set_option('display.max_colwidth', None)  # Allow full content in a column to be displayed\n",
    "pd.set_option('display.max_rows', None)  # Display all rows (if needed)\n",
    "\n",
    "# Print the full DataFrame\n",
    "print(lookalike_df)"
   ]
  },
  {
   "cell_type": "code",
   "execution_count": null,
   "id": "1dfef63e",
   "metadata": {},
   "outputs": [],
   "source": []
  }
 ],
 "metadata": {
  "kernelspec": {
   "display_name": "Python 3 (ipykernel)",
   "language": "python",
   "name": "python3"
  },
  "language_info": {
   "codemirror_mode": {
    "name": "ipython",
    "version": 3
   },
   "file_extension": ".py",
   "mimetype": "text/x-python",
   "name": "python",
   "nbconvert_exporter": "python",
   "pygments_lexer": "ipython3",
   "version": "3.9.13"
  }
 },
 "nbformat": 4,
 "nbformat_minor": 5
}
